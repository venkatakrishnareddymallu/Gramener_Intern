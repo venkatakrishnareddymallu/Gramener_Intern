{
 "cells": [
  {
   "cell_type": "markdown",
   "metadata": {},
   "source": [
    "### PYTHON SOLUTIONS"
   ]
  },
  {
   "cell_type": "code",
   "execution_count": 1,
   "metadata": {
    "collapsed": false
   },
   "outputs": [],
   "source": [
    "# lists\n",
    "x=['a','b','c']\n",
    "y=['b','d']\n"
   ]
  },
  {
   "cell_type": "code",
   "execution_count": 2,
   "metadata": {
    "collapsed": false
   },
   "outputs": [
    {
     "name": "stdout",
     "output_type": "stream",
     "text": [
      "elements that are common\n",
      "b\n"
     ]
    }
   ],
   "source": [
    "# Q1.common elements in the list\n",
    "for i in x:\n",
    "    if i in y:\n",
    "        print('elements that are common\\n'+i)\n",
    "        "
   ]
  },
  {
   "cell_type": "code",
   "execution_count": 3,
   "metadata": {
    "collapsed": false
   },
   "outputs": [
    {
     "name": "stdout",
     "output_type": "stream",
     "text": [
      "a\n",
      "c\n"
     ]
    }
   ],
   "source": [
    "# elements present in list1(x) and not in list2(y)\n",
    "for i in x:\n",
    "    if i not in y:\n",
    "        print(i)"
   ]
  },
  {
   "cell_type": "code",
   "execution_count": 7,
   "metadata": {
    "collapsed": false
   },
   "outputs": [
    {
     "name": "stdout",
     "output_type": "stream",
     "text": [
      "522\n"
     ]
    }
   ],
   "source": [
    "# how many Thursdays were there between 1990-2000\n",
    "\n",
    "from datetime import date, timedelta\n",
    "\n",
    "start= date(1990, 1, 1)\n",
    "end = date(2000, 1, 1)\n",
    "step = timedelta(1)\n",
    "num_thur_fri = 0\n",
    "#while loop until start becomes equal to end\n",
    "while start<= end:\n",
    "    if start.weekday() in [3]: #thursday\n",
    "        num_thur_fri += 1\n",
    "    start += step\n",
    "print(num_thur_fri)"
   ]
  },
  {
   "cell_type": "markdown",
   "metadata": {},
   "source": [
    "### javascript"
   ]
  },
  {
   "cell_type": "code",
   "execution_count": null,
   "metadata": {
    "collapsed": true
   },
   "outputs": [],
   "source": [
    "<!DOCTYPE html>\n",
    "<html>\n",
    "<body>\n",
    "\n",
    "<p>Click the button to get an array whithout zeros in output</p>\n",
    "\n",
    "<button onclick=\"myFunction()\">click me for a list without zeros</button>\n",
    "\n",
    "<p id=\"demo\"></p>\n",
    "\n",
    "<script>\n",
    "var ages = [0,1,2,'stop',2,0,1,'stop'];\n",
    "\n",
    "function without_zeros(age) {\n",
    "    return age !=0;\n",
    "}\n",
    "\n",
    "function myFunction() {\n",
    "    document.getElementById(\"demo\").innerHTML = ages.filter(without_zeros);\n",
    "}\n",
    "</script>\n",
    "\n",
    "</body>\n",
    "</html>\n"
   ]
  },
  {
   "cell_type": "markdown",
   "metadata": {},
   "source": [
    "<!DOCTYPE html>\n",
    "<html>\n",
    "<body>\n",
    "\n",
    "<p>Click the button to get an array whithout zeros in output</p>\n",
    "\n",
    "<button onclick=\"myFunction()\">click me for a list without zeros</button>\n",
    "\n",
    "<p id=\"demo\"></p>\n",
    "\n",
    "<script>\n",
    "var ages = [0,1,2,'stop',2,0,1,'stop'];\n",
    "\n",
    "function checkAdult(age) {\n",
    "    return age !=0;\n",
    "}\n",
    "\n",
    "function myFunction() {\n",
    "    document.getElementById(\"demo\").innerHTML = ages.filter(checkAdult);\n",
    "}\n",
    "</script>\n",
    "\n",
    "</body>\n",
    "</html>\n"
   ]
  },
  {
   "cell_type": "code",
   "execution_count": null,
   "metadata": {
    "collapsed": true
   },
   "outputs": [],
   "source": []
  }
 ],
 "metadata": {
  "kernelspec": {
   "display_name": "Python 3",
   "language": "python",
   "name": "python3"
  },
  "language_info": {
   "codemirror_mode": {
    "name": "ipython",
    "version": 3
   },
   "file_extension": ".py",
   "mimetype": "text/x-python",
   "name": "python",
   "nbconvert_exporter": "python",
   "pygments_lexer": "ipython3",
   "version": "3.6.0"
  }
 },
 "nbformat": 4,
 "nbformat_minor": 2
}
